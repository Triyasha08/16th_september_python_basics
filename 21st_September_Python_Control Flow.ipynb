{
 "cells": [
  {
   "cell_type": "code",
   "execution_count": 1,
   "id": "3595266c",
   "metadata": {},
   "outputs": [
    {
     "name": "stdout",
     "output_type": "stream",
     "text": [
      "Enter a number:10\n",
      "The given number is Positive\n"
     ]
    }
   ],
   "source": [
    "#Checks a given number is positive, negative or zero\n",
    "\n",
    "n=int(input(\"Enter a number:\"))\n",
    "if(n>0):\n",
    "    print(\"The given number is Positive\")\n",
    "elif(n<0):\n",
    "    print(\"The given number is Negative\")\n",
    "else:\n",
    "    print(\"The given number is Zero\")"
   ]
  },
  {
   "cell_type": "code",
   "execution_count": 2,
   "id": "d75d57d6",
   "metadata": {},
   "outputs": [
    {
     "name": "stdout",
     "output_type": "stream",
     "text": [
      "Enter a number:-23\n",
      "The given number is Negative\n"
     ]
    }
   ],
   "source": [
    "#Checks a given number is positive, negative or zero\n",
    "\n",
    "n=float(input(\"Enter a number:\"))\n",
    "if(n>0):\n",
    "    print(\"The given number is Positive\")\n",
    "elif(n<0):\n",
    "    print(\"The given number is Negative\")\n",
    "else:\n",
    "    print(\"The given number is Zero\")"
   ]
  },
  {
   "cell_type": "code",
   "execution_count": 3,
   "id": "9e6f2dd1",
   "metadata": {},
   "outputs": [
    {
     "name": "stdout",
     "output_type": "stream",
     "text": [
      "Enter a number:0\n",
      "The given number is Zero\n"
     ]
    }
   ],
   "source": [
    "#Checks a given number is positive, negative or zero\n",
    "\n",
    "n=int(input(\"Enter a number:\"))\n",
    "if(n>0):\n",
    "    print(\"The given number is Positive\")\n",
    "elif(n<0):\n",
    "    print(\"The given number is Negative\")\n",
    "else:\n",
    "    print(\"The given number is Zero\")"
   ]
  },
  {
   "cell_type": "code",
   "execution_count": 4,
   "id": "aa8010be",
   "metadata": {},
   "outputs": [
    {
     "name": "stdout",
     "output_type": "stream",
     "text": [
      "Enter the age of the voter:21\n",
      "The person is eligible to vote\n"
     ]
    }
   ],
   "source": [
    "#If a person is eligible to vote based on their age\n",
    "\n",
    "age=int(input(\"Enter the age of the voter:\"))\n",
    "if(age>=18):\n",
    "    print(\"The person is eligible to vote\")\n",
    "else:\n",
    "    age=18-age\n",
    "    print(f\"The person is {age} years left to be eligible to vote\")"
   ]
  },
  {
   "cell_type": "code",
   "execution_count": 5,
   "id": "87e182ec",
   "metadata": {},
   "outputs": [
    {
     "name": "stdout",
     "output_type": "stream",
     "text": [
      "Enter the age of the voter:16\n",
      "The person is 2 years left to be eligible to vote\n"
     ]
    }
   ],
   "source": [
    "#If a person is eligible to vote based on their age\n",
    "\n",
    "age=int(input(\"Enter the age of the voter:\"))\n",
    "if(age>=18):\n",
    "    print(\"The person is eligible to vote\")\n",
    "else:\n",
    "    age=18-age\n",
    "    print(f\"The person is {age} years left to be eligible to vote\")"
   ]
  },
  {
   "cell_type": "code",
   "execution_count": 6,
   "id": "11a49523",
   "metadata": {},
   "outputs": [
    {
     "name": "stdout",
     "output_type": "stream",
     "text": [
      "Enter the first number:45\n",
      "Enter the second number:34\n",
      "45 is maximum\n"
     ]
    }
   ],
   "source": [
    "#Find the maximum of two given numbers\n",
    "\n",
    "a=int(input(\"Enter the first number:\"))\n",
    "b=int(input(\"Enter the second number:\"))\n",
    "if(a>b):\n",
    "    print(f\"{a} is maximum\")\n",
    "else:\n",
    "    print(f\"{b} is maximum\")"
   ]
  },
  {
   "cell_type": "code",
   "execution_count": 7,
   "id": "31920f17",
   "metadata": {},
   "outputs": [
    {
     "name": "stdout",
     "output_type": "stream",
     "text": [
      "Enter the marks obtained in Bengali:80\n",
      "Enter the marks obtained in English:75\n",
      "Enter the marks obtained in Mathematics:90\n",
      "Enter the marks obtained in Computer:85\n",
      "Your given score's grade is A\n"
     ]
    }
   ],
   "source": [
    "#Calculates the grade of a student based on their exam score\n",
    "\n",
    "a=int(input(\"Enter the marks obtained in Bengali:\"))\n",
    "b=int(input(\"Enter the marks obtained in English:\"))\n",
    "c=int(input(\"Enter the marks obtained in Mathematics:\"))\n",
    "d=int(input(\"Enter the marks obtained in Computer:\"))\n",
    "total=(a+b+c+d)\n",
    "avg=total/4\n",
    "if(avg>=91 and avg<=100):\n",
    "    print(\"Your given score's grade is A+\")\n",
    "elif(avg>=81 and avg<=91):\n",
    "    print(\"Your given score's grade is A\")\n",
    "elif(avg>=71 and avg<=81): \n",
    "    print(\"Your given score's grade is B+\")\n",
    "elif(avg>=61 and avg<=71):\n",
    "    print(\"Your given score's grade is B\")\n",
    "elif(avg>=51 and avg<=61): \n",
    "     print(\"Your given score's grade is C+\")\n",
    "elif(avg>=41 and avg<=51):\n",
    "    print(\"Your given score's grade is C\")\n",
    "elif(avg>=31 and avg<=41): \n",
    "    print(\"Your given score's grade is D\")\n",
    "elif(avg>=21 and avg<=31):\n",
    "    print(\"Your given score's grade is E\")\n",
    "elif(avg>=0 and avg<=21):  \n",
    "    print(\"Your given score's grade is F\")\n",
    "else:\n",
    "    print(\"Input Invalid\")"
   ]
  },
  {
   "cell_type": "code",
   "execution_count": 8,
   "id": "c2a9506c",
   "metadata": {},
   "outputs": [
    {
     "name": "stdout",
     "output_type": "stream",
     "text": [
      "Enter the marks obtained in Bengali:5\n",
      "Enter the marks obtained in English:7\n",
      "Enter the marks obtained in Mathematics:4\n",
      "Enter the marks obtained in Computer:5\n",
      "Your given score's grade is F\n"
     ]
    }
   ],
   "source": [
    "#Calculates the grade of a student based on their exam score\n",
    "\n",
    "a=int(input(\"Enter the marks obtained in Bengali:\"))\n",
    "b=int(input(\"Enter the marks obtained in English:\"))\n",
    "c=int(input(\"Enter the marks obtained in Mathematics:\"))\n",
    "d=int(input(\"Enter the marks obtained in Computer:\"))\n",
    "total=(a+b+c+d)\n",
    "avg=total/4\n",
    "if(avg>=91 and avg<=100):\n",
    "    print(\"Your given score's grade is A+\")\n",
    "elif(avg>=81 and avg<=91):\n",
    "    print(\"Your given score's grade is A\")\n",
    "elif(avg>=71 and avg<=81): \n",
    "    print(\"Your given score's grade is B+\")\n",
    "elif(avg>=61 and avg<=71):\n",
    "    print(\"Your given score's grade is B\")\n",
    "elif(avg>=51 and avg<=61): \n",
    "     print(\"Your given score's grade is C+\")\n",
    "elif(avg>=41 and avg<=51):\n",
    "    print(\"Your given score's grade is C\")\n",
    "elif(avg>=31 and avg<=41): \n",
    "    print(\"Your given score's grade is D\")\n",
    "elif(avg>=21 and avg<=31):\n",
    "    print(\"Your given score's grade is E\")\n",
    "elif(avg>=0 and avg<=21):  \n",
    "    print(\"Your given score's grade is F\")\n",
    "else:\n",
    "    print(\"Input Invalid\")"
   ]
  },
  {
   "cell_type": "code",
   "execution_count": 9,
   "id": "fa688e54",
   "metadata": {},
   "outputs": [
    {
     "name": "stdout",
     "output_type": "stream",
     "text": [
      "Enter the year:1900\n",
      "1900 is not leapyear\n"
     ]
    }
   ],
   "source": [
    "#Checks a year is leap year or not\n",
    "\n",
    "year=int(input(\"Enter the year:\"))\n",
    "if(year%400==0 or year%4==0 and year%100!=0):\n",
    "    print(f\"{year} is leapyear\")\n",
    "else:\n",
    "    print(f\"{year} is not leapyear\")"
   ]
  },
  {
   "cell_type": "code",
   "execution_count": 10,
   "id": "3a1a0334",
   "metadata": {},
   "outputs": [
    {
     "name": "stdout",
     "output_type": "stream",
     "text": [
      "Enter the year:2024\n",
      "2024 is leapyear\n"
     ]
    }
   ],
   "source": [
    "#Checks a year is leap year or not\n",
    "\n",
    "year=int(input(\"Enter the year:\"))\n",
    "if(year%400==0 or year%4==0 and year%100!=0):\n",
    "    print(f\"{year} is leapyear\")\n",
    "else:\n",
    "    print(f\"{year} is not leapyear\")"
   ]
  },
  {
   "cell_type": "code",
   "execution_count": 4,
   "id": "e2a77650",
   "metadata": {},
   "outputs": [
    {
     "name": "stdout",
     "output_type": "stream",
     "text": [
      "In Triangle, enter the length of side a is:5\n",
      "In Triangle, enter the length of side b is:5\n",
      "In Triangle, enter the length of side c is:6\n",
      "Given Triangle is Isosceles\n"
     ]
    }
   ],
   "source": [
    "#Classify a triangle based on its sides' lengths\n",
    "\n",
    "a=float(input(\"In Triangle, enter the length of side a is:\"))\n",
    "b=float(input(\"In Triangle, enter the length of side b is:\"))\n",
    "c=float(input(\"In Triangle, enter the length of side c is:\"))\n",
    "if(a==b and b==c):\n",
    "    print(\"Given Triangle is Equilateral\")\n",
    "elif(a==b or b==c or a==c):\n",
    "    print(\"Given Triangle is Isosceles\")\n",
    "else:\n",
    "    print(\"Given Triangle is Scalane\")"
   ]
  },
  {
   "cell_type": "code",
   "execution_count": 3,
   "id": "f15bf903",
   "metadata": {},
   "outputs": [
    {
     "name": "stdout",
     "output_type": "stream",
     "text": [
      "In Triangle, enter the length of side a is:6\n",
      "In Triangle, enter the length of side b is:6\n",
      "In Triangle, enter the length of side c is:6\n",
      "Given Triangle is Equilateral\n"
     ]
    }
   ],
   "source": [
    "#Classify a triangle based on its sides' lengths\n",
    "\n",
    "a=float(input(\"In Triangle, enter the length of side a is:\"))\n",
    "b=float(input(\"In Triangle, enter the length of side b is:\"))\n",
    "c=float(input(\"In Triangle, enter the length of side c is:\"))\n",
    "if(a==b and b==c):\n",
    "    print(\"Given Triangle is Equilateral\")\n",
    "elif(a==b or b==c or a==c):\n",
    "    print(\"Given Triangle is Isosceles\")\n",
    "else:\n",
    "    print(\"Given Triangle is Scalane\")"
   ]
  },
  {
   "cell_type": "code",
   "execution_count": 2,
   "id": "5ecdce88",
   "metadata": {},
   "outputs": [
    {
     "name": "stdout",
     "output_type": "stream",
     "text": [
      "In Triangle, enter the length of side a is:4\n",
      "In Triangle, enter the length of side b is:3\n",
      "In Triangle, enter the length of side c is:8\n",
      "Given Triangle is Scalane\n"
     ]
    }
   ],
   "source": [
    "#Classify a triangle based on its sides' lengths\n",
    "\n",
    "a=float(input(\"In Triangle, enter the length of side a is:\"))\n",
    "b=float(input(\"In Triangle, enter the length of side b is:\"))\n",
    "c=float(input(\"In Triangle, enter the length of side c is:\"))\n",
    "if(a==b and b==c):\n",
    "    print(\"Given Triangle is Equilateral\")\n",
    "elif(a==b or b==c or a==c):\n",
    "    print(\"Given Triangle is Isosceles\")\n",
    "else:\n",
    "    print(\"Given Triangle is Scalane\")"
   ]
  },
  {
   "cell_type": "code",
   "execution_count": 15,
   "id": "767b7bb7",
   "metadata": {},
   "outputs": [
    {
     "name": "stdout",
     "output_type": "stream",
     "text": [
      "Enter the first number:56\n",
      "Enter the second number:67\n",
      "Enter the third number:43\n",
      "67 is largest\n"
     ]
    }
   ],
   "source": [
    "#Determines the largest of three given number\n",
    "\n",
    "a=int(input(\"Enter the first number:\"))\n",
    "b=int(input(\"Enter the second number:\"))\n",
    "c=int(input(\"Enter the third number:\"))\n",
    "if(a>b and a>c):\n",
    "    print(f\"{a} is largest\")\n",
    "elif(b>c):\n",
    "    print(f\"{b} is largest\")\n",
    "else:\n",
    "    print(f\"{c} is largest\")"
   ]
  },
  {
   "cell_type": "code",
   "execution_count": 16,
   "id": "50bd5cf7",
   "metadata": {},
   "outputs": [
    {
     "name": "stdout",
     "output_type": "stream",
     "text": [
      "Enter an alphabate:T\n",
      "The given alphabate is consonant\n"
     ]
    }
   ],
   "source": [
    "#Checks whether a given character is a vowel or consonant\n",
    "\n",
    "v_c=(input(\"Enter an alphabate:\"))\n",
    "if(v_c=='a' or v_c=='e' or v_c=='i' or v_c=='o' or v_c=='u' or v_c=='A' or v_c=='E' or v_c=='I' or v_c=='O' or v_c=='U'):\n",
    "    print(\"The given alphabate is vowel\")\n",
    "else:\n",
    "    print(\"The given alphabate is consonant\")"
   ]
  },
  {
   "cell_type": "code",
   "execution_count": 17,
   "id": "31d24dd2",
   "metadata": {},
   "outputs": [
    {
     "name": "stdout",
     "output_type": "stream",
     "text": [
      "Enter an alphabate:a\n",
      "The given alphabate is vowel\n"
     ]
    }
   ],
   "source": [
    "#Checks whether a given character is a vowel or consonant\n",
    "\n",
    "v_c=(input(\"Enter an alphabate:\"))\n",
    "if(v_c=='a' or v_c=='e' or v_c=='i' or v_c=='o' or v_c=='u' or v_c=='A' or v_c=='E' or v_c=='I' or v_c=='O' or v_c=='U'):\n",
    "    print(\"The given alphabate is vowel\")\n",
    "else:\n",
    "    print(\"The given alphabate is consonant\")"
   ]
  },
  {
   "cell_type": "code",
   "execution_count": 3,
   "id": "7f506402",
   "metadata": {},
   "outputs": [
    {
     "name": "stdout",
     "output_type": "stream",
     "text": [
      "Enter the purchase amount: ₹2000\n",
      "Original Price: ₹2000.00\n",
      "Discount Applied: 15.0%\n",
      "Discounted Price: ₹1700.00\n"
     ]
    }
   ],
   "source": [
    "#To calculate the total cost of a shopping cart based on discounts\n",
    "\n",
    "amount = float(input(\"Enter the purchase amount: ₹\"))\n",
    "discount = 0.0\n",
    "if (amount >= 1500):\n",
    "    discount = 0.15\n",
    "elif (amount >= 1000):\n",
    "    discount = 0.1\n",
    "discounted_price = amount - (amount * discount)\n",
    "print(f\"Original Price: ₹{amount:.2f}\")\n",
    "print(f\"Discount Applied: {discount * 100}%\")\n",
    "print(f\"Discounted Price: ₹{discounted_price:.2f}\")"
   ]
  },
  {
   "cell_type": "code",
   "execution_count": 4,
   "id": "efcd6a39",
   "metadata": {},
   "outputs": [
    {
     "name": "stdout",
     "output_type": "stream",
     "text": [
      "Enter a number:43\n",
      "The given number is odd number\n"
     ]
    }
   ],
   "source": [
    "#Checks if a given number is even or odd\n",
    "\n",
    "n=int(input(\"Enter a number:\"))\n",
    "if(n%2==0):\n",
    "    print(\"The given number is even number\")\n",
    "else:\n",
    "    print(\"The given number is odd number\")"
   ]
  },
  {
   "cell_type": "code",
   "execution_count": 5,
   "id": "178cf577",
   "metadata": {},
   "outputs": [
    {
     "name": "stdout",
     "output_type": "stream",
     "text": [
      "Enter a number:22\n",
      "The given number is even number\n"
     ]
    }
   ],
   "source": [
    "#Checks if a given number is even or odd\n",
    "\n",
    "n=int(input(\"Enter a number:\"))\n",
    "if(n%2==0):\n",
    "    print(\"The given number is even number\")\n",
    "else:\n",
    "    print(\"The given number is odd number\")"
   ]
  },
  {
   "cell_type": "code",
   "execution_count": 2,
   "id": "a548fca1",
   "metadata": {},
   "outputs": [
    {
     "name": "stdout",
     "output_type": "stream",
     "text": [
      "Enter the number of a:1\n",
      "Enter the number of b:2\n",
      "Enter the number of c:3\n",
      "Discriminant: -8\n",
      "Root 1: (-1+1.4142135623730951j)\n",
      "Root 2: (-1-1.4142135623730951j)\n",
      "Root Type: Complex Roots\n"
     ]
    }
   ],
   "source": [
    "#Calculates the roots of a quadratic equation\n",
    "\n",
    "import math\n",
    "a=int(input(\"Enter the number of a:\"))\n",
    "b=int(input(\"Enter the number of b:\"))\n",
    "c=int(input(\"Enter the number of c:\"))\n",
    "d = b**2 - 4*a*c\n",
    "if (d > 0):\n",
    "    r1 = (-b + math.sqrt(d)) / (2*a)\n",
    "    r2 = (-b - math.sqrt(d)) / (2*a)\n",
    "    root = \"Real and Distinct Roots\"\n",
    "elif (d == 0):\n",
    "    r1 = r2 = -b / (2*a)\n",
    "    root = \"Real and Equal Roots\"\n",
    "else:\n",
    "    real = -b / (2*a)\n",
    "    img = math.sqrt(abs(d)) / (2*a)\n",
    "    r1 = complex(real, img)\n",
    "    r2 = complex(real, -img)\n",
    "    root = \"Complex Roots\"\n",
    "print(f\"Discriminant: {d}\")\n",
    "print(f\"Root 1: {r1}\")\n",
    "print(f\"Root 2: {r2}\")\n",
    "print(f\"Root Type: {root}\")"
   ]
  },
  {
   "cell_type": "code",
   "execution_count": 1,
   "id": "3a5d3e18",
   "metadata": {},
   "outputs": [
    {
     "name": "stdout",
     "output_type": "stream",
     "text": [
      "Enter the day number(1-7):5\n",
      "5 is Thursday\n"
     ]
    }
   ],
   "source": [
    "#Determines the day of the week based on the day number\n",
    "\n",
    "day=int(input(\"Enter the day number(1-7):\"))\n",
    "if (day==1):\n",
    "    print(day,\"is Sunday\")\n",
    "elif (day==2):\n",
    "    print(day,\"is Monday\")\n",
    "elif (day==3):\n",
    "    print(day,\"is Tuesday\")\n",
    "elif (day==4):\n",
    "    print(day,\"is Wednesday\")\n",
    "elif (day==5):\n",
    "    print(day,\"is Thursday\")\n",
    "elif (day==6):\n",
    "    print(day,\"is Friday\")\n",
    "elif (day==7):\n",
    "    print(day,\"is Saturday\")\n",
    "else :\n",
    "    print(\"Input Invalid\")"
   ]
  },
  {
   "cell_type": "code",
   "execution_count": 23,
   "id": "16e6ff45",
   "metadata": {},
   "outputs": [
    {
     "name": "stdout",
     "output_type": "stream",
     "text": [
      "Enter the number:6\n",
      "The factorial value of given number: 720\n"
     ]
    }
   ],
   "source": [
    "#Calculates the factorial of a given number using recursion\n",
    "\n",
    "n=int(input(\"Enter the number:\"))\n",
    "f=1\n",
    "for i in range(n,0,-1):\n",
    "    f=f*i\n",
    "print(\"The factorial value of given number:\",f)    "
   ]
  },
  {
   "cell_type": "code",
   "execution_count": 24,
   "id": "abc7d99e",
   "metadata": {},
   "outputs": [
    {
     "name": "stdout",
     "output_type": "stream",
     "text": [
      "Enter the first number:56\n",
      "Enter the second number:67\n",
      "Enter the third number:34\n",
      "67 is largest\n"
     ]
    }
   ],
   "source": [
    "#To find the largest among three numbers without using the 'max()' function\n",
    "\n",
    "a=int(input(\"Enter the first number:\"))\n",
    "b=int(input(\"Enter the second number:\"))\n",
    "c=int(input(\"Enter the third number:\"))\n",
    "if(a>b and a>c):\n",
    "    print(f\"{a} is largest\")\n",
    "elif(b>c):\n",
    "    print(f\"{b} is largest\")\n",
    "else:\n",
    "    print(f\"{c} is largest\")"
   ]
  },
  {
   "cell_type": "code",
   "execution_count": 25,
   "id": "b7abed94",
   "metadata": {},
   "outputs": [],
   "source": [
    "#Create a program that simulates a basic ATM transaction menu\n",
    "\n"
   ]
  },
  {
   "cell_type": "code",
   "execution_count": 26,
   "id": "75828058",
   "metadata": {},
   "outputs": [
    {
     "name": "stdout",
     "output_type": "stream",
     "text": [
      "Enter the number:1234\n",
      "The given number is not palindrome\n"
     ]
    }
   ],
   "source": [
    "#Checks if a given string is a palindrome or not\n",
    "\n",
    "n=int(input(\"Enter the number:\"))\n",
    "k=n\n",
    "count=0\n",
    "s=0\n",
    "while(n>0):\n",
    "    r=n%10\n",
    "    s=r+s*10\n",
    "    n=n//10\n",
    "if(s==k):\n",
    "    print(\"The given number is palindrome\")\n",
    "else:\n",
    "    print(\"The given number is not palindrome\")"
   ]
  },
  {
   "cell_type": "code",
   "execution_count": 27,
   "id": "ff6f74eb",
   "metadata": {},
   "outputs": [
    {
     "name": "stdout",
     "output_type": "stream",
     "text": [
      "Enter the number:121\n",
      "The given number is palindrome\n"
     ]
    }
   ],
   "source": [
    "#Checks if a given string is a palindrome or not\n",
    "\n",
    "n=int(input(\"Enter the number:\"))\n",
    "k=n\n",
    "count=0\n",
    "s=0\n",
    "while(n>0):\n",
    "    r=n%10\n",
    "    s=r+s*10\n",
    "    n=n//10\n",
    "if(s==k):\n",
    "    print(\"The given number is palindrome\")\n",
    "else:\n",
    "    print(\"The given number is not palindrome\")"
   ]
  },
  {
   "cell_type": "code",
   "execution_count": 1,
   "id": "12683dc4",
   "metadata": {},
   "outputs": [
    {
     "name": "stdout",
     "output_type": "stream",
     "text": [
      "The sum of the given list is: 70\n",
      "The average of the given list is: 17.5\n"
     ]
    }
   ],
   "source": [
    "#Calculates the average of a list of numbers,excluding the smallest and largest values\n",
    "\n",
    "list=[10,15,20,25]\n",
    "sum=0\n",
    "avg=0\n",
    "for i in list:\n",
    "    sum=sum+i\n",
    "    avg=sum/4\n",
    "print(\"The sum of the given list is:\",sum)\n",
    "print(\"The average of the given list is:\",avg)   "
   ]
  },
  {
   "cell_type": "code",
   "execution_count": 29,
   "id": "e723a4bf",
   "metadata": {},
   "outputs": [
    {
     "name": "stdout",
     "output_type": "stream",
     "text": [
      "Enter the temperature in Celcius scale is :45.6\n",
      "The temperature in Fahrenheit scale is : 114.08000000000001\n"
     ]
    }
   ],
   "source": [
    "#Converts a given temperature from Celcius to Fahrenheit\n",
    "\n",
    "c=float(input(\"Enter the temperature in Celcius scale is :\"))\n",
    "f=float((c*9/5)+32)\n",
    "print(\"The temperature in Fahrenheit scale is :\",f)"
   ]
  },
  {
   "cell_type": "code",
   "execution_count": 30,
   "id": "1486c0d3",
   "metadata": {},
   "outputs": [
    {
     "name": "stdout",
     "output_type": "stream",
     "text": [
      "Enter the first number:50\n",
      "Enter the second number:5\n",
      "The addition of given numbers,a+b: 55\n",
      "The subtraction of given numbers,a-b: 45\n",
      "The multiplication of given numbers,a*b: 250\n",
      "The division of given numbers,a/b: 10.0\n",
      "The division of given numbers,a//b: 10\n"
     ]
    }
   ],
   "source": [
    "#Create a program that simulates a basic calculator for addition subtraction multiplication and division\n",
    "\n",
    "a=int(input(\"Enter the first number:\"))\n",
    "b=int(input(\"Enter the second number:\"))\n",
    "print(\"The addition of given numbers,a+b:\",a+b)\n",
    "print(\"The subtraction of given numbers,a-b:\",a-b)\n",
    "print(\"The multiplication of given numbers,a*b:\",a*b)\n",
    "print(\"The division of given numbers,a/b:\",a/b)\n",
    "print(\"The division of given numbers,a//b:\",a//b)"
   ]
  },
  {
   "cell_type": "code",
   "execution_count": 2,
   "id": "f8d5438a",
   "metadata": {},
   "outputs": [],
   "source": [
    "#Determines the roots of a cubic equation using the Cardano formula\n",
    "\n"
   ]
  },
  {
   "cell_type": "code",
   "execution_count": 3,
   "id": "7a2b667d",
   "metadata": {},
   "outputs": [
    {
     "name": "stdout",
     "output_type": "stream",
     "text": [
      "Enter the list:60,20,15,5\n",
      "The sum of the given list is: 100\n",
      "The average of the given list is: 25.0\n"
     ]
    }
   ],
   "source": [
    "#Calculates the average of a list of numbers,excluding the smallest and largest values\n",
    "\n",
    "list=eval(input(\"Enter the list:\"))\n",
    "sum=0\n",
    "avg=0\n",
    "i=0\n",
    "len(list)\n",
    "for i in range(len(list)):\n",
    "    sum=sum+list[i]\n",
    "    avg=sum/len(list)\n",
    "print(\"The sum of the given list is:\",sum)\n",
    "print(\"The average of the given list is:\",avg)"
   ]
  },
  {
   "cell_type": "code",
   "execution_count": null,
   "id": "693a4654",
   "metadata": {},
   "outputs": [],
   "source": []
  }
 ],
 "metadata": {
  "kernelspec": {
   "display_name": "Python 3 (ipykernel)",
   "language": "python",
   "name": "python3"
  },
  "language_info": {
   "codemirror_mode": {
    "name": "ipython",
    "version": 3
   },
   "file_extension": ".py",
   "mimetype": "text/x-python",
   "name": "python",
   "nbconvert_exporter": "python",
   "pygments_lexer": "ipython3",
   "version": "3.11.4"
  }
 },
 "nbformat": 4,
 "nbformat_minor": 5
}
