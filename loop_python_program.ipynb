{
 "cells": [
  {
   "cell_type": "code",
   "execution_count": 4,
   "id": "df2f0bea",
   "metadata": {},
   "outputs": [
    {
     "name": "stdout",
     "output_type": "stream",
     "text": [
      "The numbers are:\n",
      "1\n",
      "2\n",
      "3\n",
      "4\n",
      "5\n",
      "6\n",
      "7\n",
      "8\n",
      "9\n",
      "10\n"
     ]
    }
   ],
   "source": [
    "#Write a Python program to print numbers from 1 to 10 using a for loop\n",
    "\n",
    "print(\"The numbers are:\")\n",
    "for i in range(1,11):\n",
    "    print(i)"
   ]
  },
  {
   "cell_type": "code",
   "execution_count": 1,
   "id": "da73a7ab",
   "metadata": {},
   "outputs": [
    {
     "name": "stdout",
     "output_type": "stream",
     "text": [
      "The summation is: 5050\n"
     ]
    }
   ],
   "source": [
    "#Write a Python program to calculate the sum of all numbers from 1 to 100 using a for loop\n",
    "\n",
    "sum=0\n",
    "for i in range(1,101):\n",
    "    sum=sum+i\n",
    "print(\"The summation is:\",sum)"
   ]
  },
  {
   "cell_type": "code",
   "execution_count": 3,
   "id": "3d07bc49",
   "metadata": {},
   "outputs": [
    {
     "name": "stdout",
     "output_type": "stream",
     "text": [
      "Enter a list:35,12,9,25\n",
      "The product of all elements is: 94500\n"
     ]
    }
   ],
   "source": [
    "#Write a Python program to find the product of all elements in a list using a for loop\n",
    "\n",
    "n=eval(input(\"Enter a list:\"))\n",
    "p=1\n",
    "for i in n:\n",
    "    p=p*i\n",
    "print (\"The product of all elements is:\",p)    "
   ]
  },
  {
   "cell_type": "code",
   "execution_count": 5,
   "id": "f5495b03",
   "metadata": {},
   "outputs": [
    {
     "name": "stdout",
     "output_type": "stream",
     "text": [
      "All even numbers are:\n",
      "2\n",
      "4\n",
      "6\n",
      "8\n",
      "10\n",
      "12\n",
      "14\n",
      "16\n",
      "18\n",
      "20\n"
     ]
    }
   ],
   "source": [
    "#Create a Python program that prints all even numbers from 1 to 20 using a for loop\n",
    "\n",
    "print(\"All even numbers are:\")\n",
    "for n in range(1,21):\n",
    "    if(n%2==0):\n",
    "        print(n)"
   ]
  },
  {
   "cell_type": "code",
   "execution_count": 30,
   "id": "772f6ee7",
   "metadata": {},
   "outputs": [
    {
     "name": "stdout",
     "output_type": "stream",
     "text": [
      "Enter the number:4\n",
      "The factorial value of given number: 24\n"
     ]
    }
   ],
   "source": [
    "#Write a Python program that calculates the factorial of a number using a for loop\n",
    "\n",
    "n=int(input(\"Enter the number:\"))\n",
    "f=1\n",
    "for i in range(n,0,-1):\n",
    "    f=f*i\n",
    "print(\"The factorial value of given number:\",f)  "
   ]
  },
  {
   "cell_type": "code",
   "execution_count": 12,
   "id": "19283ba3",
   "metadata": {},
   "outputs": [
    {
     "name": "stdout",
     "output_type": "stream",
     "text": [
      "Enter the list:96,19,121,89\n",
      "The given largest number is: 121\n"
     ]
    }
   ],
   "source": [
    "#Write a Python program to find the largest number in a list using a for loop\n",
    "\n",
    "list = eval(input(\"Enter the list:\"))\n",
    "max=list[0]\n",
    "for i in list:\n",
    "    if(max<i):\n",
    "        max=i\n",
    "print(\"The given largest number is:\",max)        "
   ]
  },
  {
   "cell_type": "code",
   "execution_count": 8,
   "id": "a16ad5d0",
   "metadata": {},
   "outputs": [],
   "source": [
    "#Create a Python program that prints the Fibonacci sequence up to a specified limit using a for loop\n",
    "\n",
    "\n"
   ]
  },
  {
   "cell_type": "code",
   "execution_count": 1,
   "id": "02f86d7f",
   "metadata": {},
   "outputs": [
    {
     "name": "stdout",
     "output_type": "stream",
     "text": [
      "Enter a string value:Triyasha Purkait\n",
      "In given string the vowels are: 6\n"
     ]
    }
   ],
   "source": [
    "#Write a Python program to count the number of vowels in a given string using a for loop\n",
    "\n",
    "s=(input(\"Enter a string value:\"))\n",
    "vow=set(\"aeiouAEIOU\")\n",
    "count=0\n",
    "for i in s:\n",
    "    if i in vow:\n",
    "        count+=1\n",
    "print(\"In given string the vowels are:\",count)"
   ]
  },
  {
   "cell_type": "code",
   "execution_count": 13,
   "id": "f1855979",
   "metadata": {},
   "outputs": [
    {
     "name": "stdout",
     "output_type": "stream",
     "text": [
      "Enter a number:19\n",
      "19 x 1 = 19\n",
      "19 x 2 = 38\n",
      "19 x 3 = 57\n",
      "19 x 4 = 76\n",
      "19 x 5 = 95\n",
      "19 x 6 = 114\n",
      "19 x 7 = 133\n",
      "19 x 8 = 152\n",
      "19 x 9 = 171\n",
      "19 x 10 = 190\n"
     ]
    }
   ],
   "source": [
    "#Create a Python program that generates a multiplication table for a given number using a for loop\n",
    "\n",
    "n=int(input(\"Enter a number:\"))\n",
    "for i in range (1,11):\n",
    "    print(f\"{n} x {i} = {n*i}\")"
   ]
  },
  {
   "cell_type": "code",
   "execution_count": 16,
   "id": "a3277b98",
   "metadata": {},
   "outputs": [
    {
     "name": "stdout",
     "output_type": "stream",
     "text": [
      "Input a list from user:12,23,34,45,56\n",
      "The new list is: (56, 45, 34, 23, 12)\n"
     ]
    }
   ],
   "source": [
    "#Write a Python program to reverse a list using a for loop\n",
    "\n",
    "list=eval(input(\"Input a list from user:\"))\n",
    "for i in list:\n",
    "    l=list[::-1]\n",
    "print(\"The new list is:\",l)    "
   ]
  },
  {
   "cell_type": "code",
   "execution_count": 15,
   "id": "a2254aa6",
   "metadata": {},
   "outputs": [
    {
     "name": "stdout",
     "output_type": "stream",
     "text": [
      "Enter the first list:10,20,33,40,50\n",
      "Enter the second list:11,22,33,44,55\n",
      "The common elements between the lists:\n",
      "33 "
     ]
    }
   ],
   "source": [
    "#Write a Python program to find the common elements between two lists using a for loop\n",
    "\n",
    "l1=eval(input(\"Enter the first list:\"))\n",
    "l2=eval(input(\"Enter the second list:\"))\n",
    "a=[]\n",
    "print(\"The common elements between the lists:\")\n",
    "for i in l1:\n",
    "    if(i in l2) and (i not in a):\n",
    "        print(i,end=\" \")\n",
    "        a.append(i)"
   ]
  },
  {
   "cell_type": "code",
   "execution_count": 1,
   "id": "869b4a23",
   "metadata": {},
   "outputs": [
    {
     "name": "stdout",
     "output_type": "stream",
     "text": [
      "Enter the first number:56\n",
      "Enter the second number:13\n",
      "GCD of 56 and 13 is: 1\n"
     ]
    }
   ],
   "source": [
    "#Write a Python program to find the GCD (Greatest Common Divisor) of two numbers using a for loop\n",
    "\n",
    "n1=int(input(\"Enter the first number:\"))\n",
    "n2=int(input(\"Enter the second number:\"))\n",
    "gcd=1\n",
    "for i in range(1,n1+1) and range(1,n2+1):\n",
    "    if(n1%i==0 and n2%i==0):\n",
    "        gcd=i\n",
    "print(f\"GCD of {n1} and {n2} is: {gcd}\")        "
   ]
  },
  {
   "cell_type": "code",
   "execution_count": 3,
   "id": "b2af56aa",
   "metadata": {},
   "outputs": [
    {
     "name": "stdout",
     "output_type": "stream",
     "text": [
      "Enter the string value:madam\n",
      "madam is a palindrome.\n"
     ]
    }
   ],
   "source": [
    "#Create a Python program that checks if a string is a palindrome using a for loop\n",
    "\n",
    "s=(input(\"Enter the string value:\"))\n",
    "rev=\"\"\n",
    "for i in s:\n",
    "    rev=i+rev\n",
    "if(rev==s):\n",
    "    print(f\"{s} is a palindrome.\")\n",
    "else:\n",
    "    print(f\"{s} is not a palindrome\")"
   ]
  },
  {
   "cell_type": "code",
   "execution_count": 12,
   "id": "67438d85",
   "metadata": {},
   "outputs": [
    {
     "name": "stdout",
     "output_type": "stream",
     "text": [
      "Enter the number of elements required: 5\n",
      "Enter the list elements: \n",
      "12\n",
      "13\n",
      "10\n",
      "13\n",
      "10\n",
      "Initial input: [12, 13, 10, 13, 10]\n",
      "Final output without duplicate elements: [12, 13, 10]\n"
     ]
    }
   ],
   "source": [
    "#Write a Python program to remove duplicates from a list using a for loop\n",
    "\n",
    "a=[]\n",
    "n=int(input(\"Enter the number of elements required: \"))\n",
    "print(\"Enter the list elements: \")\n",
    "for i in range(n):\n",
    "    a.append(int(input()))\n",
    "print(\"Initial input: \",end=\"\")\n",
    "print(a)\n",
    "aux=[]\n",
    "for i in a:\n",
    "    if i not in aux:\n",
    "        aux.append(i)\n",
    "print(\"Final output without duplicate elements: \",end=\"\")\n",
    "print(aux)"
   ]
  },
  {
   "cell_type": "code",
   "execution_count": 11,
   "id": "7e412eb0",
   "metadata": {},
   "outputs": [
    {
     "name": "stdout",
     "output_type": "stream",
     "text": [
      "Enter the sentence:My name is Triyasha Purkait\n",
      "The number of words present in a given sentence: 5\n"
     ]
    }
   ],
   "source": [
    "#Create a Python program that counts the number of words in a sentence using a for loop\n",
    "\n",
    "s=(input(\"Enter the sentence:\"))\n",
    "n=0\n",
    "for i in s:\n",
    "    if(i==\" \"):\n",
    "        n+=1\n",
    "n+=1        \n",
    "print(f\"The number of words present in a given sentence: {n}\")        "
   ]
  },
  {
   "cell_type": "code",
   "execution_count": 7,
   "id": "a072fd5c",
   "metadata": {},
   "outputs": [
    {
     "name": "stdout",
     "output_type": "stream",
     "text": [
      "The summation of all odd numbers from 1 to 50 are: 625\n"
     ]
    }
   ],
   "source": [
    "#Write a Python program to find the sum of all odd numbers from 1 to 50 using a for loop\n",
    "\n",
    "s=0\n",
    "for i in range(1,51,2):\n",
    "    s+=i\n",
    "print(f\"The summation of all odd numbers from 1 to 50 are: {s}\")    "
   ]
  },
  {
   "cell_type": "code",
   "execution_count": 4,
   "id": "e4afee70",
   "metadata": {},
   "outputs": [
    {
     "name": "stdout",
     "output_type": "stream",
     "text": [
      "Enter the year:1700\n",
      "1700 is not leapyear\n"
     ]
    }
   ],
   "source": [
    "#Write a Python program that checks if a given year is a leap year using a for loop\n",
    "\n",
    "year=int(input(\"Enter the year:\"))\n",
    "if(year%400==0 or year%4==0 and year%100!=0):\n",
    "    print(f\"{year} is leapyear\")\n",
    "else:\n",
    "    print(f\"{year} is not leapyear\")"
   ]
  },
  {
   "cell_type": "code",
   "execution_count": 10,
   "id": "55973221",
   "metadata": {},
   "outputs": [
    {
     "name": "stdout",
     "output_type": "stream",
     "text": [
      "Enter the number:225\n",
      "Square root of 225 is: 15\n"
     ]
    }
   ],
   "source": [
    "#Create a Python program that calculates the square root of a number using a for loop\n",
    "\n",
    "n=int(input(\"Enter the number:\"))\n",
    "sq=0\n",
    "num=n\n",
    "for i in range(1,n,2):\n",
    "    if(n>0):\n",
    "        n=n-i\n",
    "        sq+=1\n",
    "    else:\n",
    "        break\n",
    "print(f\"Square root of {num} is: {sq}\")        "
   ]
  },
  {
   "cell_type": "code",
   "execution_count": 8,
   "id": "fae8446e",
   "metadata": {},
   "outputs": [
    {
     "name": "stdout",
     "output_type": "stream",
     "text": [
      "Enter the first number:34\n",
      "Enter the second number:17\n",
      "LCM of 34 and 17 is: 34\n"
     ]
    }
   ],
   "source": [
    "#Write a Python program to find the LCM (Least Common Multiple) of two numbers using a for loop\n",
    "\n",
    "n1=int(input(\"Enter the first number:\"))\n",
    "n2=int(input(\"Enter the second number:\"))\n",
    "for i in range(max(n1,n2), 1+(n1*n2)):\n",
    "    if(i%n1==i%n2==0):\n",
    "        lcm=i\n",
    "        break\n",
    "print(f\"LCM of {n1} and {n2} is: {lcm}\")        "
   ]
  },
  {
   "cell_type": "code",
   "execution_count": null,
   "id": "fe8251b0",
   "metadata": {},
   "outputs": [],
   "source": []
  }
 ],
 "metadata": {
  "kernelspec": {
   "display_name": "Python 3 (ipykernel)",
   "language": "python",
   "name": "python3"
  },
  "language_info": {
   "codemirror_mode": {
    "name": "ipython",
    "version": 3
   },
   "file_extension": ".py",
   "mimetype": "text/x-python",
   "name": "python",
   "nbconvert_exporter": "python",
   "pygments_lexer": "ipython3",
   "version": "3.11.4"
  }
 },
 "nbformat": 4,
 "nbformat_minor": 5
}
