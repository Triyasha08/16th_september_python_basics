{
 "cells": [
  {
   "cell_type": "code",
   "execution_count": 2,
   "id": "dcbcac2a",
   "metadata": {},
   "outputs": [
    {
     "name": "stdout",
     "output_type": "stream",
     "text": [
      "Before swap the values are : 8 4\n",
      "After swap the values are : 4 8\n"
     ]
    }
   ],
   "source": [
    "#swap the values of these variables without using any temporary variable\n",
    "x=8\n",
    "y=4\n",
    "print(\"Before swap the values are :\",x,y)\n",
    "x,y=y,x\n",
    "print(\"After swap the values are :\",x,y)"
   ]
  },
  {
   "cell_type": "code",
   "execution_count": 3,
   "id": "7e832b76",
   "metadata": {},
   "outputs": [
    {
     "name": "stdout",
     "output_type": "stream",
     "text": [
      "Enter the length of the rectangle is :8\n",
      "Enter the breadth of the rectangle is :4\n",
      "The area of the rectangle is : 32\n"
     ]
    }
   ],
   "source": [
    "#create a program that calculates the area of a rectangle\n",
    "a=int(input(\"Enter the length of the rectangle is :\"))\n",
    "b=int(input(\"Enter the breadth of the rectangle is :\"))\n",
    "area=(a*b)\n",
    "print(\"The area of the rectangle is :\",area)"
   ]
  },
  {
   "cell_type": "code",
   "execution_count": 4,
   "id": "617189bb",
   "metadata": {},
   "outputs": [
    {
     "name": "stdout",
     "output_type": "stream",
     "text": [
      "Enter the temperature in Celcius scale is :45.8\n",
      "The temperature in Fahrenheit scale is : 114.44\n"
     ]
    }
   ],
   "source": [
    "#converts temperatures from celsius to fahrenheit\n",
    "c=float(input(\"Enter the temperature in Celcius scale is :\"))\n",
    "f=float((c*9/5)+32)\n",
    "print(\"The temperature in Fahrenheit scale is :\",f)"
   ]
  },
  {
   "cell_type": "code",
   "execution_count": 5,
   "id": "c2e45d31",
   "metadata": {},
   "outputs": [
    {
     "name": "stdout",
     "output_type": "stream",
     "text": [
      "Enter a string value:Sammilani Mahavidyalaya\n",
      "The total length of the given string is: 23\n"
     ]
    }
   ],
   "source": [
    "#takes a string as input and prints the length of the string\n",
    "s1=(input(\"Enter a string value:\"))\n",
    "n=len(s1)\n",
    "print(\"The total length of the given string is:\",n)"
   ]
  },
  {
   "cell_type": "code",
   "execution_count": 6,
   "id": "5791a85c",
   "metadata": {},
   "outputs": [
    {
     "name": "stdout",
     "output_type": "stream",
     "text": [
      "Enter a string value:Triyasha Purkait\n",
      "In given strint the vowels are: 6\n"
     ]
    }
   ],
   "source": [
    "#takes a sentence from the user and counts the number os vowels in the string\n",
    "s=(input(\"Enter a string value:\"))\n",
    "vow=set(\"aeiouAEIOU\")\n",
    "count=0\n",
    "for i in s:\n",
    "    if i in vow:\n",
    "        count+=1\n",
    "print(\"In given strint the vowels are:\",count)      "
   ]
  },
  {
   "cell_type": "code",
   "execution_count": 7,
   "id": "5b4eff35",
   "metadata": {},
   "outputs": [
    {
     "name": "stdout",
     "output_type": "stream",
     "text": [
      "Enter the string input:triyasha\n",
      "Reverse of the given input: ahsayirt\n"
     ]
    }
   ],
   "source": [
    "#reverse the order of characters using slicing and print the reversed string\n",
    "s=input(\"Enter the string input:\")\n",
    "rev=s[::-1]\n",
    "print(\"Reverse of the given input:\",rev)"
   ]
  },
  {
   "cell_type": "code",
   "execution_count": 8,
   "id": "890b3428",
   "metadata": {},
   "outputs": [
    {
     "name": "stdout",
     "output_type": "stream",
     "text": [
      "Enter the string input:madam\n",
      "madam is a palindrome!\n"
     ]
    }
   ],
   "source": [
    "#takes a string as input and check if it is a palindrome\n",
    "s=input(\"Enter the string input:\")\n",
    "rev=s[::-1]\n",
    "if list(s) == list(rev):\n",
    "    print(s,\"is a palindrome!\")\n",
    "else:\n",
    "    print(s,\"is nat a palindrome!\")"
   ]
  },
  {
   "cell_type": "code",
   "execution_count": 9,
   "id": "20611b3c",
   "metadata": {},
   "outputs": [
    {
     "name": "stdout",
     "output_type": "stream",
     "text": [
      "Enter the string:tr i ya s h a\n",
      "Without spacing the string is: triyasha\n"
     ]
    }
   ],
   "source": [
    "#takes a string as input and removes all the spaces\n",
    "s=str(input(\"Enter the string:\"))\n",
    "r=s.replace(\" \",\"\")\n",
    "print(\"Without spacing the string is:\",r)"
   ]
  },
  {
   "cell_type": "code",
   "execution_count": null,
   "id": "21a54601",
   "metadata": {},
   "outputs": [],
   "source": []
  }
 ],
 "metadata": {
  "kernelspec": {
   "display_name": "Python 3 (ipykernel)",
   "language": "python",
   "name": "python3"
  },
  "language_info": {
   "codemirror_mode": {
    "name": "ipython",
    "version": 3
   },
   "file_extension": ".py",
   "mimetype": "text/x-python",
   "name": "python",
   "nbconvert_exporter": "python",
   "pygments_lexer": "ipython3",
   "version": "3.11.4"
  }
 },
 "nbformat": 4,
 "nbformat_minor": 5
}
